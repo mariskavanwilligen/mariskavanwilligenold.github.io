{
 "cells": [
  {
   "cell_type": "code",
   "execution_count": 77,
   "metadata": {},
   "outputs": [],
   "source": [
    "\n",
    "def romanToInt(s):\n",
    "        \"\"\"\n",
    "        :type s: str\n",
    "        :rtype: int\n",
    "        \"\"\"\n",
    "        translations = {\n",
    "            \"I\": 1,\n",
    "            \"V\": 5,\n",
    "            \"X\": 10,\n",
    "            \"L\": 50,\n",
    "            \"C\": 100,\n",
    "            \"D\": 500,\n",
    "            \"M\": 1000\n",
    "        }\n",
    "        number = 0\n",
    "        s = s.replace(\"IV\", \"IIII\").replace(\"IX\", \"VIIII\")\n",
    "        s = s.replace(\"XL\", \"XXXX\").replace(\"XC\", \"LXXXX\")\n",
    "        s = s.replace(\"CD\", \"CCCC\").replace(\"CM\", \"DCCCC\")\n",
    "        for char in s:\n",
    "            number += translations[char]\n",
    "        return number\n",
    "     "
   ]
  },
  {
   "cell_type": "code",
   "execution_count": 78,
   "metadata": {},
   "outputs": [
    {
     "data": {
      "text/plain": [
       "1994"
      ]
     },
     "execution_count": 78,
     "metadata": {},
     "output_type": "execute_result"
    }
   ],
   "source": [
    "romanToInt(\"MCMXCIV\")\n"
   ]
  },
  {
   "cell_type": "code",
   "execution_count": 86,
   "metadata": {},
   "outputs": [
    {
     "name": "stdout",
     "output_type": "stream",
     "text": [
      "None\n"
     ]
    }
   ],
   "source": [
    "input = [1, 2, 2, 1]\n",
    "\n",
    "output = input.reverse()\n",
    "# output == input\n",
    "print(input.reverse())"
   ]
  },
  {
   "cell_type": "code",
   "execution_count": 87,
   "metadata": {},
   "outputs": [
    {
     "name": "stdout",
     "output_type": "stream",
     "text": [
      "Reversed List: [7, 5, 3, 2]\n"
     ]
    }
   ],
   "source": [
    "# create a list of prime numbers\n",
    "prime_numbers = [2, 3, 5, 7]\n",
    "\n",
    "# reverse the order of list elements\n",
    "prime_numbers.reverse()\n",
    "\n",
    "\n",
    "print('Reversed List:', prime_numbers)"
   ]
  },
  {
   "cell_type": "code",
   "execution_count": 94,
   "metadata": {},
   "outputs": [
    {
     "data": {
      "text/plain": [
       "False"
      ]
     },
     "execution_count": 94,
     "metadata": {},
     "output_type": "execute_result"
    }
   ],
   "source": [
    "head = [1, 2, 2, 1]\n",
    "len(set(head)) == len(head)"
   ]
  },
  {
   "cell_type": "code",
   "execution_count": null,
   "metadata": {},
   "outputs": [],
   "source": []
  }
 ],
 "metadata": {
  "kernelspec": {
   "display_name": "Python 3.9.6 64-bit",
   "language": "python",
   "name": "python3"
  },
  "language_info": {
   "codemirror_mode": {
    "name": "ipython",
    "version": 3
   },
   "file_extension": ".py",
   "mimetype": "text/x-python",
   "name": "python",
   "nbconvert_exporter": "python",
   "pygments_lexer": "ipython3",
   "version": "3.9.6"
  },
  "orig_nbformat": 4,
  "vscode": {
   "interpreter": {
    "hash": "aee8b7b246df8f9039afb4144a1f6fd8d2ca17a180786b69acc140d282b71a49"
   }
  }
 },
 "nbformat": 4,
 "nbformat_minor": 2
}
