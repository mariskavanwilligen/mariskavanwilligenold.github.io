{
 "cells": [
  {
   "cell_type": "code",
   "execution_count": 4,
   "metadata": {},
   "outputs": [
    {
     "name": "stdout",
     "output_type": "stream",
     "text": [
      "Collecting pyspark\n",
      "  Using cached pyspark-3.2.0.tar.gz (281.3 MB)\n",
      "Collecting py4j==0.10.9.2\n",
      "  Using cached py4j-0.10.9.2-py2.py3-none-any.whl (198 kB)\n",
      "Building wheels for collected packages: pyspark\n",
      "  Building wheel for pyspark (setup.py) ... \u001b[?25ldone\n",
      "\u001b[?25h  Created wheel for pyspark: filename=pyspark-3.2.0-py2.py3-none-any.whl size=281805913 sha256=3c0f618cbbdfe1e5c12fe70e1f713e44062b85d96315cca8ab3601e0b58ff4e9\n",
      "  Stored in directory: /Users/mariskavanwilligen/Library/Caches/pip/wheels/2f/f8/95/2ad14a4614b4a9f645ee928fbbd057b1b254c67adb494c9a58\n",
      "Successfully built pyspark\n",
      "Installing collected packages: py4j, pyspark\n",
      "Successfully installed py4j-0.10.9.2 pyspark-3.2.0\n",
      "\u001b[33mWARNING: You are using pip version 21.1.3; however, version 21.3.1 is available.\n",
      "You should consider upgrading via the '/usr/local/opt/python@3.9/bin/python3.9 -m pip install --upgrade pip' command.\u001b[0m\n",
      "Note: you may need to restart the kernel to use updated packages.\n"
     ]
    }
   ],
   "source": [
    "pip install pyspark"
   ]
  },
  {
   "cell_type": "code",
   "execution_count": 5,
   "metadata": {},
   "outputs": [
    {
     "name": "stderr",
     "output_type": "stream",
     "text": [
      "Using Spark's default log4j profile: org/apache/spark/log4j-defaults.properties\n",
      "Setting default log level to \"WARN\".\n",
      "To adjust logging level use sc.setLogLevel(newLevel). For SparkR, use setLogLevel(newLevel).\n",
      "21/11/29 16:40:49 WARN NativeCodeLoader: Unable to load native-hadoop library for your platform... using builtin-java classes where applicable\n"
     ]
    }
   ],
   "source": [
    "import pyspark\n",
    "from pyspark.context import SparkContext\n",
    "from pyspark.sql.session import SparkSession\n",
    "sc = SparkContext('local')\n",
    "spark = SparkSession(sc)"
   ]
  },
  {
   "cell_type": "code",
   "execution_count": 10,
   "metadata": {},
   "outputs": [],
   "source": [
    "\n",
    "bike = spark.read.csv('data/bike_sales.csv', header=True, inferSchema=True)"
   ]
  },
  {
   "cell_type": "code",
   "execution_count": 9,
   "metadata": {},
   "outputs": [
    {
     "name": "stdout",
     "output_type": "stream",
     "text": [
      "+-------+----------+------+---+----+-------+-------+----------+----------+--------+--------+--------+---------+------+----------+----+\n",
      "|instant|    dteday|season| yr|mnth|holiday|weekday|workingday|weathersit|    temp|   atemp|     hum|windspeed|casual|registered| cnt|\n",
      "+-------+----------+------+---+----+-------+-------+----------+----------+--------+--------+--------+---------+------+----------+----+\n",
      "|      1|2011-01-01|     1|  0|   1|      0|      6|         0|         2|0.344167|0.363625|0.805833| 0.160446|   331|       654| 985|\n",
      "|      2|2011-01-02|     1|  0|   1|      0|      0|         0|         2|0.363478|0.353739|0.696087| 0.248539|   131|       670| 801|\n",
      "|      3|2011-01-03|     1|  0|   1|      0|      1|         1|         1|0.196364|0.189405|0.437273| 0.248309|   120|      1229|1349|\n",
      "|      4|2011-01-04|     1|  0|   1|      0|      2|         1|         1|     0.2|0.212122|0.590435| 0.160296|   108|      1454|1562|\n",
      "|      5|2011-01-05|     1|  0|   1|      0|      3|         1|         1|0.226957| 0.22927|0.436957|   0.1869|    82|      1518|1600|\n",
      "|      6|2011-01-06|     1|  0|   1|      0|      4|         1|         1|0.204348|0.233209|0.518261|0.0895652|    88|      1518|1606|\n",
      "|      7|2011-01-07|     1|  0|   1|      0|      5|         1|         2|0.196522|0.208839|0.498696| 0.168726|   148|      1362|1510|\n",
      "|      8|2011-01-08|     1|  0|   1|      0|      6|         0|         2|   0.165|0.162254|0.535833| 0.266804|    68|       891| 959|\n",
      "|      9|2011-01-09|     1|  0|   1|      0|      0|         0|         1|0.138333|0.116175|0.434167|  0.36195|    54|       768| 822|\n",
      "|     10|2011-01-10|     1|  0|   1|      0|      1|         1|         1|0.150833|0.150888|0.482917| 0.223267|    41|      1280|1321|\n",
      "|     11|2011-01-11|     1|  0|   1|      0|      2|         1|         2|0.169091|0.191464|0.686364| 0.122132|    43|      1220|1263|\n",
      "|     12|2011-01-12|     1|  0|   1|      0|      3|         1|         1|0.172727|0.160473|0.599545| 0.304627|    25|      1137|1162|\n",
      "|     13|2011-01-13|     1|  0|   1|      0|      4|         1|         1|   0.165|0.150883|0.470417|    0.301|    38|      1368|1406|\n",
      "|     14|2011-01-14|     1|  0|   1|      0|      5|         1|         1| 0.16087|0.188413|0.537826| 0.126548|    54|      1367|1421|\n",
      "|     15|2011-01-15|     1|  0|   1|      0|      6|         0|         2|0.233333|0.248112| 0.49875| 0.157963|   222|      1026|1248|\n",
      "|     16|2011-01-16|     1|  0|   1|      0|      0|         0|         1|0.231667|0.234217| 0.48375| 0.188433|   251|       953|1204|\n",
      "|     17|2011-01-17|     1|  0|   1|      1|      1|         0|         2|0.175833|0.176771|  0.5375| 0.194017|   117|       883|1000|\n",
      "|     18|2011-01-18|     1|  0|   1|      0|      2|         1|         2|0.216667|0.232333|0.861667| 0.146775|     9|       674| 683|\n",
      "|     19|2011-01-19|     1|  0|   1|      0|      3|         1|         2|0.292174|0.298422|0.741739| 0.208317|    78|      1572|1650|\n",
      "|     20|2011-01-20|     1|  0|   1|      0|      4|         1|         2|0.261667| 0.25505|0.538333| 0.195904|    83|      1844|1927|\n",
      "+-------+----------+------+---+----+-------+-------+----------+----------+--------+--------+--------+---------+------+----------+----+\n",
      "only showing top 20 rows\n",
      "\n"
     ]
    }
   ],
   "source": []
  },
  {
   "cell_type": "code",
   "execution_count": null,
   "metadata": {},
   "outputs": [],
   "source": []
  }
 ],
 "metadata": {
  "interpreter": {
   "hash": "aee8b7b246df8f9039afb4144a1f6fd8d2ca17a180786b69acc140d282b71a49"
  },
  "kernelspec": {
   "display_name": "Python 3.9.6 64-bit",
   "name": "python3"
  },
  "language_info": {
   "codemirror_mode": {
    "name": "ipython",
    "version": 3
   },
   "file_extension": ".py",
   "mimetype": "text/x-python",
   "name": "python",
   "nbconvert_exporter": "python",
   "pygments_lexer": "ipython3",
   "version": "3.9.6"
  },
  "orig_nbformat": 4
 },
 "nbformat": 4,
 "nbformat_minor": 2
}
